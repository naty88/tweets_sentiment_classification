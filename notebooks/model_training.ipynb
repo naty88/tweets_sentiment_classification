{
 "cells": [
  {
   "cell_type": "code",
   "execution_count": 1,
   "id": "164def88-aeb2-4783-b407-7bedcacded2e",
   "metadata": {},
   "outputs": [],
   "source": [
    "import sys\n",
    "sys.path.append(\"../\")  # go to parent directory\n",
    "\n",
    "from src.model_manager.sentiment_dataset import SentimentDataset\n",
    "from src.utils import compute_metrics\n",
    "import pandas as pd\n",
    "import transformers\n",
    "from sklearn.model_selection import train_test_split\n",
    "from transformers import BertTokenizerFast, BertForSequenceClassification, get_linear_schedule_with_warmup, create_optimizer, TrainingArguments, Trainer\n",
    "\n",
    "from src.utils import read_csv\n",
    "import numpy as np\n",
    "import torch\n",
    "from torch.optim import AdamW\n",
    "from torch.optim.lr_scheduler import LambdaLR\n",
    "import torch.nn as nn\n",
    "\n",
    "from torch.utils.data import Dataset, DataLoader\n",
    "from sklearn.preprocessing import OrdinalEncoder\n",
    "from torch.utils.data import Dataset, DataLoader\n",
    "from tqdm import trange"
   ]
  },
  {
   "cell_type": "code",
   "execution_count": 2,
   "id": "cd97cbdf-5b31-41f2-8bba-d2149eedbd8c",
   "metadata": {},
   "outputs": [],
   "source": [
    "# constants\n",
    "MODEL_NAME = 'bert-base-uncased'\n",
    "BATCH_SIZE = 20\n",
    "NUM_EPOCHS = 5\n",
    "MAX_LENGTH = 100\n",
    "\n",
    "RANDOM_SEED = 42  # for reproducibilty\n",
    "np.random.seed(RANDOM_SEED)\n",
    "torch.manual_seed(RANDOM_SEED)\n",
    "\n",
    "PATH_TO_DATA = \"../data/training_cleanded.csv\""
   ]
  },
  {
   "cell_type": "code",
   "execution_count": 3,
   "id": "84140b14-3832-42ba-952f-4bdf04971b33",
   "metadata": {},
   "outputs": [
    {
     "data": {
      "text/html": [
       "<div>\n",
       "<style scoped>\n",
       "    .dataframe tbody tr th:only-of-type {\n",
       "        vertical-align: middle;\n",
       "    }\n",
       "\n",
       "    .dataframe tbody tr th {\n",
       "        vertical-align: top;\n",
       "    }\n",
       "\n",
       "    .dataframe thead th {\n",
       "        text-align: right;\n",
       "    }\n",
       "</style>\n",
       "<table border=\"1\" class=\"dataframe\">\n",
       "  <thead>\n",
       "    <tr style=\"text-align: right;\">\n",
       "      <th></th>\n",
       "      <th>Id</th>\n",
       "      <th>Entity</th>\n",
       "      <th>Sentiment</th>\n",
       "      <th>Text</th>\n",
       "      <th>Word_count</th>\n",
       "    </tr>\n",
       "  </thead>\n",
       "  <tbody>\n",
       "    <tr>\n",
       "      <th>0</th>\n",
       "      <td>2401</td>\n",
       "      <td>Borderlands</td>\n",
       "      <td>Positive</td>\n",
       "      <td>im getting on borderlands and i will murder yo...</td>\n",
       "      <td>11</td>\n",
       "    </tr>\n",
       "    <tr>\n",
       "      <th>1</th>\n",
       "      <td>2401</td>\n",
       "      <td>Borderlands</td>\n",
       "      <td>Positive</td>\n",
       "      <td>I am coming to the borders and I will kill you...</td>\n",
       "      <td>13</td>\n",
       "    </tr>\n",
       "    <tr>\n",
       "      <th>2</th>\n",
       "      <td>2401</td>\n",
       "      <td>Borderlands</td>\n",
       "      <td>Positive</td>\n",
       "      <td>im getting on borderlands and i will kill you ...</td>\n",
       "      <td>11</td>\n",
       "    </tr>\n",
       "    <tr>\n",
       "      <th>3</th>\n",
       "      <td>2401</td>\n",
       "      <td>Borderlands</td>\n",
       "      <td>Positive</td>\n",
       "      <td>im coming on borderlands and i will murder you...</td>\n",
       "      <td>11</td>\n",
       "    </tr>\n",
       "    <tr>\n",
       "      <th>4</th>\n",
       "      <td>2401</td>\n",
       "      <td>Borderlands</td>\n",
       "      <td>Positive</td>\n",
       "      <td>im getting on borderlands 2 and i will murder ...</td>\n",
       "      <td>13</td>\n",
       "    </tr>\n",
       "  </tbody>\n",
       "</table>\n",
       "</div>"
      ],
      "text/plain": [
       "     Id       Entity Sentiment  \\\n",
       "0  2401  Borderlands  Positive   \n",
       "1  2401  Borderlands  Positive   \n",
       "2  2401  Borderlands  Positive   \n",
       "3  2401  Borderlands  Positive   \n",
       "4  2401  Borderlands  Positive   \n",
       "\n",
       "                                                Text  Word_count  \n",
       "0  im getting on borderlands and i will murder yo...          11  \n",
       "1  I am coming to the borders and I will kill you...          13  \n",
       "2  im getting on borderlands and i will kill you ...          11  \n",
       "3  im coming on borderlands and i will murder you...          11  \n",
       "4  im getting on borderlands 2 and i will murder ...          13  "
      ]
     },
     "execution_count": 3,
     "metadata": {},
     "output_type": "execute_result"
    }
   ],
   "source": [
    "df = read_csv(path=PATH_TO_DATA)\n",
    "df.head(5)"
   ]
  },
  {
   "cell_type": "code",
   "execution_count": 4,
   "id": "ae6a4463-e51d-4bca-bdd5-f7fcf6ce20ea",
   "metadata": {},
   "outputs": [],
   "source": [
    "# # tmp\n",
    "# df = df.iloc[:10000]\n",
    "# df"
   ]
  },
  {
   "cell_type": "code",
   "execution_count": 5,
   "id": "5a356b3c-fa47-4a34-9a65-48decdab60a4",
   "metadata": {},
   "outputs": [
    {
     "data": {
      "text/plain": [
       "Index(['Id', 'Entity', 'Sentiment', 'Text', 'Word_count'], dtype='object')"
      ]
     },
     "execution_count": 5,
     "metadata": {},
     "output_type": "execute_result"
    }
   ],
   "source": [
    "df_columns = df.columns.str.strip()\n",
    "df_columns"
   ]
  },
  {
   "cell_type": "markdown",
   "id": "505b1b1d-0dba-451b-9929-54432f6803ae",
   "metadata": {},
   "source": [
    "#### Some preprocessing"
   ]
  },
  {
   "cell_type": "code",
   "execution_count": 6,
   "id": "3d625c6f-714d-46e1-889c-cd99729587bb",
   "metadata": {},
   "outputs": [
    {
     "data": {
      "text/html": [
       "<div>\n",
       "<style scoped>\n",
       "    .dataframe tbody tr th:only-of-type {\n",
       "        vertical-align: middle;\n",
       "    }\n",
       "\n",
       "    .dataframe tbody tr th {\n",
       "        vertical-align: top;\n",
       "    }\n",
       "\n",
       "    .dataframe thead th {\n",
       "        text-align: right;\n",
       "    }\n",
       "</style>\n",
       "<table border=\"1\" class=\"dataframe\">\n",
       "  <thead>\n",
       "    <tr style=\"text-align: right;\">\n",
       "      <th></th>\n",
       "      <th>Id</th>\n",
       "      <th>Entity</th>\n",
       "      <th>Sentiment</th>\n",
       "      <th>Text</th>\n",
       "      <th>Word_count</th>\n",
       "    </tr>\n",
       "  </thead>\n",
       "  <tbody>\n",
       "    <tr>\n",
       "      <th>0</th>\n",
       "      <td>2401</td>\n",
       "      <td>Borderlands</td>\n",
       "      <td>1</td>\n",
       "      <td>im getting on borderlands and i will murder yo...</td>\n",
       "      <td>11</td>\n",
       "    </tr>\n",
       "    <tr>\n",
       "      <th>1</th>\n",
       "      <td>2401</td>\n",
       "      <td>Borderlands</td>\n",
       "      <td>1</td>\n",
       "      <td>I am coming to the borders and I will kill you...</td>\n",
       "      <td>13</td>\n",
       "    </tr>\n",
       "    <tr>\n",
       "      <th>2</th>\n",
       "      <td>2401</td>\n",
       "      <td>Borderlands</td>\n",
       "      <td>1</td>\n",
       "      <td>im getting on borderlands and i will kill you ...</td>\n",
       "      <td>11</td>\n",
       "    </tr>\n",
       "    <tr>\n",
       "      <th>3</th>\n",
       "      <td>2401</td>\n",
       "      <td>Borderlands</td>\n",
       "      <td>1</td>\n",
       "      <td>im coming on borderlands and i will murder you...</td>\n",
       "      <td>11</td>\n",
       "    </tr>\n",
       "  </tbody>\n",
       "</table>\n",
       "</div>"
      ],
      "text/plain": [
       "     Id       Entity  Sentiment  \\\n",
       "0  2401  Borderlands          1   \n",
       "1  2401  Borderlands          1   \n",
       "2  2401  Borderlands          1   \n",
       "3  2401  Borderlands          1   \n",
       "\n",
       "                                                Text  Word_count  \n",
       "0  im getting on borderlands and i will murder yo...          11  \n",
       "1  I am coming to the borders and I will kill you...          13  \n",
       "2  im getting on borderlands and i will kill you ...          11  \n",
       "3  im coming on borderlands and i will murder you...          11  "
      ]
     },
     "execution_count": 6,
     "metadata": {},
     "output_type": "execute_result"
    }
   ],
   "source": [
    "# Encode sentiments as integers\n",
    "sentiment_mapping = {'Negative': 0, 'Positive': 1, 'Neutral': 2, 'Irrelevant': 3}\n",
    "df['Sentiment'] = df['Sentiment'].map(sentiment_mapping)\n",
    "df.head(4)"
   ]
  },
  {
   "cell_type": "code",
   "execution_count": 7,
   "id": "35f054e6-7544-400a-881c-0f31af54733e",
   "metadata": {},
   "outputs": [
    {
     "name": "stdout",
     "output_type": "stream",
     "text": [
      "Shapes:\n",
      "train_df: (57324, 5)\n",
      "val_df: (7166, 5)\n",
      "test_df: (7166, 5)\n"
     ]
    }
   ],
   "source": [
    "# Split the data into training and validation sets\n",
    "train_df, test_df = train_test_split(df, test_size=0.2, random_state=RANDOM_SEED)\n",
    "val_df, test_df = train_test_split(test_df, test_size=0.5, random_state=RANDOM_SEED)\n",
    "print(f\"Shapes:\\ntrain_df: {train_df.shape}\\nval_df: {val_df.shape}\\ntest_df: {test_df.shape}\")"
   ]
  },
  {
   "cell_type": "code",
   "execution_count": 8,
   "id": "fba82ed9-2ad9-410f-9469-e9f970bc020f",
   "metadata": {},
   "outputs": [],
   "source": [
    "# Reset index\n",
    "train_df.reset_index(inplace=True)\n",
    "val_df.reset_index(inplace=True)\n",
    "test_df.reset_index(inplace=True)"
   ]
  },
  {
   "cell_type": "markdown",
   "id": "385f580b-7130-42f3-bdf0-455dc74aa5bf",
   "metadata": {},
   "source": [
    "#### Initialize a BERT tokenizer"
   ]
  },
  {
   "cell_type": "code",
   "execution_count": 9,
   "id": "9591ab21-af5a-48df-9fe1-78712b3f29ae",
   "metadata": {},
   "outputs": [],
   "source": [
    "tokenizer = BertTokenizerFast.from_pretrained(MODEL_NAME)"
   ]
  },
  {
   "cell_type": "code",
   "execution_count": 10,
   "id": "24cdf5cb-4ac9-4e8d-906f-01e53fa4a711",
   "metadata": {},
   "outputs": [],
   "source": [
    "# Tokenize the data\n",
    "train_tokenizer = tokenizer(list(train_df['Text']), truncation=True, padding=True, max_length=MAX_LENGTH)\n",
    "val_tokenizer = tokenizer(list(val_df['Text']), truncation=True, padding=True, max_length=MAX_LENGTH)\n",
    "test_tokenizer = tokenizer(list(test_df['Text']), truncation=True, padding=True, max_length=MAX_LENGTH)"
   ]
  },
  {
   "cell_type": "code",
   "execution_count": 11,
   "id": "5fe4ba15-fe78-40ee-ab17-cd6f1f2a9301",
   "metadata": {},
   "outputs": [],
   "source": [
    "# # cross check\n",
    "# tokenizer.decode(train_tokenizer['input_ids'][10])"
   ]
  },
  {
   "cell_type": "markdown",
   "id": "5b5603af-9e18-4546-925b-346ca72b1bf3",
   "metadata": {},
   "source": [
    "#### Create PyTorch Dataset and DataLoader"
   ]
  },
  {
   "cell_type": "code",
   "execution_count": 12,
   "id": "b954a6e2-c755-4b85-be6e-e81c978f7230",
   "metadata": {},
   "outputs": [],
   "source": [
    "# Create datasets\n",
    "train_dataset = SentimentDataset(train_tokenizer, list(train_df['Sentiment']))\n",
    "val_dataset = SentimentDataset(val_tokenizer, list(val_df['Sentiment']))\n",
    "test_dataset = SentimentDataset(test_tokenizer, list(test_df['Sentiment']))\n",
    "# val_dataset.__getitem__(10)"
   ]
  },
  {
   "cell_type": "markdown",
   "id": "9c85ab71-2bf1-4984-a15d-ae59bbdde44f",
   "metadata": {},
   "source": [
    "#### Set up BERT model"
   ]
  },
  {
   "cell_type": "code",
   "execution_count": 13,
   "id": "9db03afe-254f-40f1-90df-2bf71626947e",
   "metadata": {},
   "outputs": [
    {
     "data": {
      "text/plain": [
       "device(type='cuda')"
      ]
     },
     "execution_count": 13,
     "metadata": {},
     "output_type": "execute_result"
    }
   ],
   "source": [
    "# Set up device\n",
    "device = torch.device(\"cuda\" if torch.cuda.is_available() else \"cpu\")\n",
    "device"
   ]
  },
  {
   "cell_type": "code",
   "execution_count": 14,
   "id": "b3110343-0d89-40b2-a546-7a20a8b53518",
   "metadata": {},
   "outputs": [
    {
     "name": "stderr",
     "output_type": "stream",
     "text": [
      "Some weights of BertForSequenceClassification were not initialized from the model checkpoint at bert-base-uncased and are newly initialized: ['classifier.bias', 'classifier.weight']\n",
      "You should probably TRAIN this model on a down-stream task to be able to use it for predictions and inference.\n"
     ]
    },
    {
     "data": {
      "text/plain": [
       "BertForSequenceClassification(\n",
       "  (bert): BertModel(\n",
       "    (embeddings): BertEmbeddings(\n",
       "      (word_embeddings): Embedding(30522, 768, padding_idx=0)\n",
       "      (position_embeddings): Embedding(512, 768)\n",
       "      (token_type_embeddings): Embedding(2, 768)\n",
       "      (LayerNorm): LayerNorm((768,), eps=1e-12, elementwise_affine=True)\n",
       "      (dropout): Dropout(p=0.1, inplace=False)\n",
       "    )\n",
       "    (encoder): BertEncoder(\n",
       "      (layer): ModuleList(\n",
       "        (0-11): 12 x BertLayer(\n",
       "          (attention): BertAttention(\n",
       "            (self): BertSdpaSelfAttention(\n",
       "              (query): Linear(in_features=768, out_features=768, bias=True)\n",
       "              (key): Linear(in_features=768, out_features=768, bias=True)\n",
       "              (value): Linear(in_features=768, out_features=768, bias=True)\n",
       "              (dropout): Dropout(p=0.1, inplace=False)\n",
       "            )\n",
       "            (output): BertSelfOutput(\n",
       "              (dense): Linear(in_features=768, out_features=768, bias=True)\n",
       "              (LayerNorm): LayerNorm((768,), eps=1e-12, elementwise_affine=True)\n",
       "              (dropout): Dropout(p=0.1, inplace=False)\n",
       "            )\n",
       "          )\n",
       "          (intermediate): BertIntermediate(\n",
       "            (dense): Linear(in_features=768, out_features=3072, bias=True)\n",
       "            (intermediate_act_fn): GELUActivation()\n",
       "          )\n",
       "          (output): BertOutput(\n",
       "            (dense): Linear(in_features=3072, out_features=768, bias=True)\n",
       "            (LayerNorm): LayerNorm((768,), eps=1e-12, elementwise_affine=True)\n",
       "            (dropout): Dropout(p=0.1, inplace=False)\n",
       "          )\n",
       "        )\n",
       "      )\n",
       "    )\n",
       "    (pooler): BertPooler(\n",
       "      (dense): Linear(in_features=768, out_features=768, bias=True)\n",
       "      (activation): Tanh()\n",
       "    )\n",
       "  )\n",
       "  (dropout): Dropout(p=0.1, inplace=False)\n",
       "  (classifier): Linear(in_features=768, out_features=4, bias=True)\n",
       ")"
      ]
     },
     "execution_count": 14,
     "metadata": {},
     "output_type": "execute_result"
    }
   ],
   "source": [
    "# Model initialization\n",
    "model = BertForSequenceClassification.from_pretrained(MODEL_NAME, num_labels=len(sentiment_mapping))\n",
    "model.to(device)"
   ]
  },
  {
   "cell_type": "code",
   "execution_count": 15,
   "id": "36eaf996-090c-4a69-bce9-f38affa301a6",
   "metadata": {},
   "outputs": [],
   "source": [
    "# Set up optimizer and scheduler\n",
    "optimizer = AdamW(model.parameters(), lr=2e-5)\n",
    "total_steps =len(train_dataset) // BATCH_SIZE * NUM_EPOCHS \n",
    "scheduler = get_linear_schedule_with_warmup(optimizer, num_warmup_steps=0, num_training_steps=total_steps)"
   ]
  },
  {
   "cell_type": "markdown",
   "id": "4810edc0-2be0-48b6-84ac-5702487895c8",
   "metadata": {},
   "source": [
    "####  Train the model"
   ]
  },
  {
   "cell_type": "code",
   "execution_count": 16,
   "id": "acfdcefe-f63b-4124-a3c8-bbe0cc4e7b3b",
   "metadata": {},
   "outputs": [
    {
     "data": {
      "text/html": [
       "\n",
       "    <div>\n",
       "      \n",
       "      <progress value='14335' max='14335' style='width:300px; height:20px; vertical-align: middle;'></progress>\n",
       "      [14335/14335 1:09:33, Epoch 5/5]\n",
       "    </div>\n",
       "    <table border=\"1\" class=\"dataframe\">\n",
       "  <thead>\n",
       " <tr style=\"text-align: left;\">\n",
       "      <th>Epoch</th>\n",
       "      <th>Training Loss</th>\n",
       "      <th>Validation Loss</th>\n",
       "      <th>Accuracy</th>\n",
       "      <th>Precision</th>\n",
       "      <th>Recall</th>\n",
       "      <th>F1</th>\n",
       "    </tr>\n",
       "  </thead>\n",
       "  <tbody>\n",
       "    <tr>\n",
       "      <td>1</td>\n",
       "      <td>0.622200</td>\n",
       "      <td>0.535157</td>\n",
       "      <td>0.805610</td>\n",
       "      <td>0.805666</td>\n",
       "      <td>0.805610</td>\n",
       "      <td>0.803895</td>\n",
       "    </tr>\n",
       "    <tr>\n",
       "      <td>2</td>\n",
       "      <td>0.220600</td>\n",
       "      <td>0.330864</td>\n",
       "      <td>0.888362</td>\n",
       "      <td>0.890437</td>\n",
       "      <td>0.888362</td>\n",
       "      <td>0.888129</td>\n",
       "    </tr>\n",
       "    <tr>\n",
       "      <td>3</td>\n",
       "      <td>0.171800</td>\n",
       "      <td>0.336969</td>\n",
       "      <td>0.910131</td>\n",
       "      <td>0.910177</td>\n",
       "      <td>0.910131</td>\n",
       "      <td>0.910150</td>\n",
       "    </tr>\n",
       "    <tr>\n",
       "      <td>4</td>\n",
       "      <td>0.156800</td>\n",
       "      <td>0.362582</td>\n",
       "      <td>0.917527</td>\n",
       "      <td>0.917750</td>\n",
       "      <td>0.917527</td>\n",
       "      <td>0.917556</td>\n",
       "    </tr>\n",
       "    <tr>\n",
       "      <td>5</td>\n",
       "      <td>0.060100</td>\n",
       "      <td>0.363734</td>\n",
       "      <td>0.920876</td>\n",
       "      <td>0.921175</td>\n",
       "      <td>0.920876</td>\n",
       "      <td>0.920919</td>\n",
       "    </tr>\n",
       "  </tbody>\n",
       "</table><p>"
      ],
      "text/plain": [
       "<IPython.core.display.HTML object>"
      ]
     },
     "metadata": {},
     "output_type": "display_data"
    },
    {
     "name": "stdout",
     "output_type": "stream",
     "text": [
      "CPU times: user 19min 10s, sys: 50min 27s, total: 1h 9min 38s\n",
      "Wall time: 1h 9min 33s\n"
     ]
    },
    {
     "data": {
      "text/plain": [
       "TrainOutput(global_step=14335, training_loss=0.30745384560921984, metrics={'train_runtime': 4173.5719, 'train_samples_per_second': 68.675, 'train_steps_per_second': 3.435, 'total_flos': 1.4729344705296e+16, 'train_loss': 0.30745384560921984, 'epoch': 5.0})"
      ]
     },
     "execution_count": 16,
     "metadata": {},
     "output_type": "execute_result"
    }
   ],
   "source": [
    "%%time\n",
    "\n",
    "# Define training arguments\n",
    "training_args = TrainingArguments(\n",
    "    output_dir='../results',\n",
    "    logging_dir='../logs',\n",
    "    num_train_epochs=NUM_EPOCHS,\n",
    "    per_device_train_batch_size=BATCH_SIZE,\n",
    "    per_device_eval_batch_size=BATCH_SIZE,\n",
    "    warmup_steps=500,\n",
    "    weight_decay=0.01,\n",
    "    learning_rate=2e-5,\n",
    "    logging_steps=10,\n",
    "    eval_strategy=\"epoch\",\n",
    "    gradient_accumulation_steps=2  # Number of updates steps to accumulate the gradients \n",
    ")\n",
    "\n",
    "# Create Trainer instance\n",
    "trainer = Trainer(\n",
    "    model=model,\n",
    "    args=training_args,\n",
    "    train_dataset=train_dataset,\n",
    "    eval_dataset=val_dataset,\n",
    "    optimizers=(optimizer, scheduler),\n",
    "    compute_metrics=compute_metrics  # Define metrics\n",
    ")\n",
    "\n",
    "# Train the model\n",
    "trainer.train()"
   ]
  },
  {
   "cell_type": "code",
   "execution_count": 17,
   "id": "4ca08100-a2ca-4568-8fa8-d59b03b34ac3",
   "metadata": {},
   "outputs": [
    {
     "data": {
      "text/html": [
       "\n",
       "    <div>\n",
       "      \n",
       "      <progress value='359' max='359' style='width:300px; height:20px; vertical-align: middle;'></progress>\n",
       "      [359/359 00:30]\n",
       "    </div>\n",
       "    "
      ],
      "text/plain": [
       "<IPython.core.display.HTML object>"
      ]
     },
     "metadata": {},
     "output_type": "display_data"
    },
    {
     "name": "stdout",
     "output_type": "stream",
     "text": [
      "{'eval_loss': 0.3688706159591675, 'eval_accuracy': 0.9182249511582473, 'eval_precision': 0.9185249101338531, 'eval_recall': 0.9182249511582473, 'eval_f1': 0.9182225767646979, 'eval_runtime': 30.187, 'eval_samples_per_second': 237.387, 'eval_steps_per_second': 11.893, 'epoch': 5.0}\n",
      "Validation Accuracy: 0.9182\n",
      "Validation Precision: 0.9185\n",
      "Validation Recall: 0.9182\n",
      "Validation F1 Score: 0.9182\n"
     ]
    }
   ],
   "source": [
    "# Evaluate the model\n",
    "eval_result = trainer.evaluate(eval_dataset=test_dataset)\n",
    "print(eval_result)\n",
    "print(f\"Validation Accuracy: {eval_result['eval_accuracy']:.4f}\")\n",
    "print(f\"Validation Precision: {eval_result['eval_precision']:.4f}\")\n",
    "print(f\"Validation Recall: {eval_result['eval_recall']:.4f}\")\n",
    "print(f\"Validation F1 Score: {eval_result['eval_f1']:.4f}\")"
   ]
  },
  {
   "cell_type": "code",
   "execution_count": 18,
   "id": "a56ee3e7-ebeb-4aae-af48-8bb2c7461894",
   "metadata": {},
   "outputs": [
    {
     "data": {
      "text/plain": [
       "('../bert_model/tokenizer_config.json',\n",
       " '../bert_model/special_tokens_map.json',\n",
       " '../bert_model/vocab.txt',\n",
       " '../bert_model/added_tokens.json',\n",
       " '../bert_model/tokenizer.json')"
      ]
     },
     "execution_count": 18,
     "metadata": {},
     "output_type": "execute_result"
    }
   ],
   "source": [
    "# Save the model\n",
    "model.save_pretrained('../bert_model')\n",
    "tokenizer.save_pretrained('../bert_model')"
   ]
  },
  {
   "cell_type": "code",
   "execution_count": null,
   "id": "dd3dc42a-c693-408c-a65e-506aaf3d9ff7",
   "metadata": {},
   "outputs": [],
   "source": []
  }
 ],
 "metadata": {
  "kernelspec": {
   "display_name": "Python 3 (ipykernel)",
   "language": "python",
   "name": "python3"
  },
  "language_info": {
   "codemirror_mode": {
    "name": "ipython",
    "version": 3
   },
   "file_extension": ".py",
   "mimetype": "text/x-python",
   "name": "python",
   "nbconvert_exporter": "python",
   "pygments_lexer": "ipython3",
   "version": "3.11.7"
  }
 },
 "nbformat": 4,
 "nbformat_minor": 5
}
