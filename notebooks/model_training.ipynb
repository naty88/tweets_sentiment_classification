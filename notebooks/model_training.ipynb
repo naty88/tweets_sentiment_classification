{
 "cells": [
  {
   "cell_type": "code",
   "execution_count": 1,
   "id": "164def88-aeb2-4783-b407-7bedcacded2e",
   "metadata": {},
   "outputs": [],
   "source": [
    "import sys\n",
    "sys.path.append(\"../\")  # go to parent directory\n",
    "\n",
    "# from src.model_manager.sentiment_dataset import SentimentDataset\n",
    "\n",
    "from src.utils import compute_metrics\n",
    "import pandas as pd\n",
    "import transformers\n",
    "from sklearn.model_selection import train_test_split\n",
    "from transformers import AutoModelForSequenceClassification, AutoTokenizer, get_linear_schedule_with_warmup, create_optimizer, TrainingArguments, Trainer\n",
    "\n",
    "from src.utils import read_csv, get_sentiment_mapping\n",
    "import numpy as np\n",
    "import torch\n",
    "\n",
    "import torch.nn as nn\n",
    "\n",
    "#from torch.utils.data import Dataset, DataLoader\n",
    "from datasets import Dataset\n",
    "from sklearn.preprocessing import OrdinalEncoder\n",
    "# from torch.utils.data import Dataset, DataLoader"
   ]
  },
  {
   "cell_type": "code",
   "execution_count": 2,
   "id": "cd97cbdf-5b31-41f2-8bba-d2149eedbd8c",
   "metadata": {},
   "outputs": [],
   "source": [
    "# constants\n",
    "MODEL_NAME = 'bert-base-cased'\n",
    "BATCH_SIZE = 20\n",
    "NUM_EPOCHS = 3\n",
    "MAX_LENGTH = 100\n",
    "\n",
    "RANDOM_SEED = 42  # for reproducibilty\n",
    "np.random.seed(RANDOM_SEED)\n",
    "torch.manual_seed(RANDOM_SEED)\n",
    "\n",
    "PATH_TO_DATA = \"../data/training_cleanded.csv\""
   ]
  },
  {
   "cell_type": "code",
   "execution_count": 3,
   "id": "84140b14-3832-42ba-952f-4bdf04971b33",
   "metadata": {},
   "outputs": [
    {
     "data": {
      "text/html": [
       "<div>\n",
       "<style scoped>\n",
       "    .dataframe tbody tr th:only-of-type {\n",
       "        vertical-align: middle;\n",
       "    }\n",
       "\n",
       "    .dataframe tbody tr th {\n",
       "        vertical-align: top;\n",
       "    }\n",
       "\n",
       "    .dataframe thead th {\n",
       "        text-align: right;\n",
       "    }\n",
       "</style>\n",
       "<table border=\"1\" class=\"dataframe\">\n",
       "  <thead>\n",
       "    <tr style=\"text-align: right;\">\n",
       "      <th></th>\n",
       "      <th>id</th>\n",
       "      <th>entity</th>\n",
       "      <th>labels</th>\n",
       "      <th>text</th>\n",
       "      <th>word_count</th>\n",
       "    </tr>\n",
       "  </thead>\n",
       "  <tbody>\n",
       "    <tr>\n",
       "      <th>0</th>\n",
       "      <td>2401</td>\n",
       "      <td>Borderlands</td>\n",
       "      <td>Positive</td>\n",
       "      <td>im getting on borderlands and i will murder yo...</td>\n",
       "      <td>11</td>\n",
       "    </tr>\n",
       "    <tr>\n",
       "      <th>1</th>\n",
       "      <td>2401</td>\n",
       "      <td>Borderlands</td>\n",
       "      <td>Positive</td>\n",
       "      <td>I am coming to the borders and I will kill you...</td>\n",
       "      <td>13</td>\n",
       "    </tr>\n",
       "    <tr>\n",
       "      <th>2</th>\n",
       "      <td>2401</td>\n",
       "      <td>Borderlands</td>\n",
       "      <td>Positive</td>\n",
       "      <td>im getting on borderlands and i will kill you ...</td>\n",
       "      <td>11</td>\n",
       "    </tr>\n",
       "    <tr>\n",
       "      <th>3</th>\n",
       "      <td>2401</td>\n",
       "      <td>Borderlands</td>\n",
       "      <td>Positive</td>\n",
       "      <td>im coming on borderlands and i will murder you...</td>\n",
       "      <td>11</td>\n",
       "    </tr>\n",
       "    <tr>\n",
       "      <th>4</th>\n",
       "      <td>2401</td>\n",
       "      <td>Borderlands</td>\n",
       "      <td>Positive</td>\n",
       "      <td>im getting on borderlands 2 and i will murder ...</td>\n",
       "      <td>13</td>\n",
       "    </tr>\n",
       "  </tbody>\n",
       "</table>\n",
       "</div>"
      ],
      "text/plain": [
       "     id       entity    labels  \\\n",
       "0  2401  Borderlands  Positive   \n",
       "1  2401  Borderlands  Positive   \n",
       "2  2401  Borderlands  Positive   \n",
       "3  2401  Borderlands  Positive   \n",
       "4  2401  Borderlands  Positive   \n",
       "\n",
       "                                                text  word_count  \n",
       "0  im getting on borderlands and i will murder yo...          11  \n",
       "1  I am coming to the borders and I will kill you...          13  \n",
       "2  im getting on borderlands and i will kill you ...          11  \n",
       "3  im coming on borderlands and i will murder you...          11  \n",
       "4  im getting on borderlands 2 and i will murder ...          13  "
      ]
     },
     "execution_count": 3,
     "metadata": {},
     "output_type": "execute_result"
    }
   ],
   "source": [
    "df = read_csv(path=PATH_TO_DATA)\n",
    "df.head(5)"
   ]
  },
  {
   "cell_type": "code",
   "execution_count": 4,
   "id": "5a356b3c-fa47-4a34-9a65-48decdab60a4",
   "metadata": {},
   "outputs": [
    {
     "data": {
      "text/plain": [
       "Index(['id', 'entity', 'labels', 'text', 'word_count'], dtype='object')"
      ]
     },
     "execution_count": 4,
     "metadata": {},
     "output_type": "execute_result"
    }
   ],
   "source": [
    "df_columns = df.columns.str.strip()\n",
    "df_columns"
   ]
  },
  {
   "cell_type": "markdown",
   "id": "505b1b1d-0dba-451b-9929-54432f6803ae",
   "metadata": {},
   "source": [
    "#### Some preprocessing"
   ]
  },
  {
   "cell_type": "code",
   "execution_count": 6,
   "id": "ae6a4463-e51d-4bca-bdd5-f7fcf6ce20ea",
   "metadata": {},
   "outputs": [],
   "source": [
    "SENT_LABELS = ['Irrelevant', 'Neutral', 'Negative', 'Positive']"
   ]
  },
  {
   "cell_type": "code",
   "execution_count": 7,
   "id": "3d625c6f-714d-46e1-889c-cd99729587bb",
   "metadata": {},
   "outputs": [
    {
     "data": {
      "text/html": [
       "<div>\n",
       "<style scoped>\n",
       "    .dataframe tbody tr th:only-of-type {\n",
       "        vertical-align: middle;\n",
       "    }\n",
       "\n",
       "    .dataframe tbody tr th {\n",
       "        vertical-align: top;\n",
       "    }\n",
       "\n",
       "    .dataframe thead th {\n",
       "        text-align: right;\n",
       "    }\n",
       "</style>\n",
       "<table border=\"1\" class=\"dataframe\">\n",
       "  <thead>\n",
       "    <tr style=\"text-align: right;\">\n",
       "      <th></th>\n",
       "      <th>id</th>\n",
       "      <th>entity</th>\n",
       "      <th>labels</th>\n",
       "      <th>text</th>\n",
       "      <th>word_count</th>\n",
       "    </tr>\n",
       "  </thead>\n",
       "  <tbody>\n",
       "    <tr>\n",
       "      <th>0</th>\n",
       "      <td>2401</td>\n",
       "      <td>Borderlands</td>\n",
       "      <td>3</td>\n",
       "      <td>im getting on borderlands and i will murder yo...</td>\n",
       "      <td>11</td>\n",
       "    </tr>\n",
       "    <tr>\n",
       "      <th>1</th>\n",
       "      <td>2401</td>\n",
       "      <td>Borderlands</td>\n",
       "      <td>3</td>\n",
       "      <td>I am coming to the borders and I will kill you...</td>\n",
       "      <td>13</td>\n",
       "    </tr>\n",
       "    <tr>\n",
       "      <th>2</th>\n",
       "      <td>2401</td>\n",
       "      <td>Borderlands</td>\n",
       "      <td>3</td>\n",
       "      <td>im getting on borderlands and i will kill you ...</td>\n",
       "      <td>11</td>\n",
       "    </tr>\n",
       "    <tr>\n",
       "      <th>3</th>\n",
       "      <td>2401</td>\n",
       "      <td>Borderlands</td>\n",
       "      <td>3</td>\n",
       "      <td>im coming on borderlands and i will murder you...</td>\n",
       "      <td>11</td>\n",
       "    </tr>\n",
       "  </tbody>\n",
       "</table>\n",
       "</div>"
      ],
      "text/plain": [
       "     id       entity  labels  \\\n",
       "0  2401  Borderlands       3   \n",
       "1  2401  Borderlands       3   \n",
       "2  2401  Borderlands       3   \n",
       "3  2401  Borderlands       3   \n",
       "\n",
       "                                                text  word_count  \n",
       "0  im getting on borderlands and i will murder yo...          11  \n",
       "1  I am coming to the borders and I will kill you...          13  \n",
       "2  im getting on borderlands and i will kill you ...          11  \n",
       "3  im coming on borderlands and i will murder you...          11  "
      ]
     },
     "execution_count": 7,
     "metadata": {},
     "output_type": "execute_result"
    }
   ],
   "source": [
    "# Encode sentiments as integers\n",
    "sentiment_mapping = get_sentiment_mapping(sent_list=SENT_LABELS, is_label_to_idx=True)\n",
    "df['labels'] = df['labels'].map(sentiment_mapping)\n",
    "df.head(4)"
   ]
  },
  {
   "cell_type": "code",
   "execution_count": 8,
   "id": "35f054e6-7544-400a-881c-0f31af54733e",
   "metadata": {},
   "outputs": [
    {
     "name": "stdout",
     "output_type": "stream",
     "text": [
      "Shapes:\n",
      "train_df: (57324, 5)\n",
      "test_df: (14332, 5)\n"
     ]
    }
   ],
   "source": [
    "# Split the data into training and validation sets\n",
    "train_df, test_df = train_test_split(df, test_size=0.2, random_state=RANDOM_SEED)\n",
    "print(f\"Shapes:\\ntrain_df: {train_df.shape}\\ntest_df: {test_df.shape}\")"
   ]
  },
  {
   "cell_type": "code",
   "execution_count": 9,
   "id": "96119372-9330-4c70-bc58-80c103004b74",
   "metadata": {},
   "outputs": [
    {
     "name": "stdout",
     "output_type": "stream",
     "text": [
      "Index(['id', 'entity', 'labels', 'text', 'word_count'], dtype='object')\n",
      "Index(['id', 'entity', 'labels', 'text', 'word_count'], dtype='object')\n"
     ]
    }
   ],
   "source": [
    "print(train_df.columns)\n",
    "print(test_df.columns)"
   ]
  },
  {
   "cell_type": "code",
   "execution_count": 10,
   "id": "fba82ed9-2ad9-410f-9469-e9f970bc020f",
   "metadata": {},
   "outputs": [],
   "source": [
    "# Reset index\n",
    "train_df.reset_index(inplace=True)\n",
    "test_df.reset_index(inplace=True)"
   ]
  },
  {
   "cell_type": "code",
   "execution_count": 12,
   "id": "3904bc1a-8515-4463-b0b0-2dc52c9ce214",
   "metadata": {},
   "outputs": [
    {
     "data": {
      "text/plain": [
       "(4, 4)"
      ]
     },
     "execution_count": 12,
     "metadata": {},
     "output_type": "execute_result"
    }
   ],
   "source": [
    "# test and train set label counts must be same\n",
    "len(train_df.labels.value_counts()), len(test_df.labels.value_counts()) "
   ]
  },
  {
   "cell_type": "markdown",
   "id": "385f580b-7130-42f3-bdf0-455dc74aa5bf",
   "metadata": {},
   "source": [
    "#### Initialize a BERT model and tokenizer"
   ]
  },
  {
   "cell_type": "code",
   "execution_count": 13,
   "id": "8b3ab29e-97d0-4c22-a436-8114754a2476",
   "metadata": {},
   "outputs": [],
   "source": [
    "# Set your number of unique labels for your target\n",
    "num_labels = len(SENT_LABELS)  # 4"
   ]
  },
  {
   "cell_type": "code",
   "execution_count": 14,
   "id": "30b5893e-de48-4aef-bab6-275e9f6dacf6",
   "metadata": {},
   "outputs": [
    {
     "data": {
      "text/plain": [
       "device(type='cuda')"
      ]
     },
     "execution_count": 14,
     "metadata": {},
     "output_type": "execute_result"
    }
   ],
   "source": [
    "# Set up device\n",
    "device = torch.device(\"cuda\" if torch.cuda.is_available() else \"cpu\")\n",
    "device"
   ]
  },
  {
   "cell_type": "code",
   "execution_count": 15,
   "id": "dc4950dd-bb29-4a91-9814-9f8c7b594b57",
   "metadata": {},
   "outputs": [
    {
     "name": "stderr",
     "output_type": "stream",
     "text": [
      "Some weights of BertForSequenceClassification were not initialized from the model checkpoint at bert-base-cased and are newly initialized: ['classifier.bias', 'classifier.weight']\n",
      "You should probably TRAIN this model on a down-stream task to be able to use it for predictions and inference.\n"
     ]
    },
    {
     "data": {
      "text/plain": [
       "BertForSequenceClassification(\n",
       "  (bert): BertModel(\n",
       "    (embeddings): BertEmbeddings(\n",
       "      (word_embeddings): Embedding(28996, 768, padding_idx=0)\n",
       "      (position_embeddings): Embedding(512, 768)\n",
       "      (token_type_embeddings): Embedding(2, 768)\n",
       "      (LayerNorm): LayerNorm((768,), eps=1e-12, elementwise_affine=True)\n",
       "      (dropout): Dropout(p=0.1, inplace=False)\n",
       "    )\n",
       "    (encoder): BertEncoder(\n",
       "      (layer): ModuleList(\n",
       "        (0-11): 12 x BertLayer(\n",
       "          (attention): BertAttention(\n",
       "            (self): BertSdpaSelfAttention(\n",
       "              (query): Linear(in_features=768, out_features=768, bias=True)\n",
       "              (key): Linear(in_features=768, out_features=768, bias=True)\n",
       "              (value): Linear(in_features=768, out_features=768, bias=True)\n",
       "              (dropout): Dropout(p=0.1, inplace=False)\n",
       "            )\n",
       "            (output): BertSelfOutput(\n",
       "              (dense): Linear(in_features=768, out_features=768, bias=True)\n",
       "              (LayerNorm): LayerNorm((768,), eps=1e-12, elementwise_affine=True)\n",
       "              (dropout): Dropout(p=0.1, inplace=False)\n",
       "            )\n",
       "          )\n",
       "          (intermediate): BertIntermediate(\n",
       "            (dense): Linear(in_features=768, out_features=3072, bias=True)\n",
       "            (intermediate_act_fn): GELUActivation()\n",
       "          )\n",
       "          (output): BertOutput(\n",
       "            (dense): Linear(in_features=3072, out_features=768, bias=True)\n",
       "            (LayerNorm): LayerNorm((768,), eps=1e-12, elementwise_affine=True)\n",
       "            (dropout): Dropout(p=0.1, inplace=False)\n",
       "          )\n",
       "        )\n",
       "      )\n",
       "    )\n",
       "    (pooler): BertPooler(\n",
       "      (dense): Linear(in_features=768, out_features=768, bias=True)\n",
       "      (activation): Tanh()\n",
       "    )\n",
       "  )\n",
       "  (dropout): Dropout(p=0.1, inplace=False)\n",
       "  (classifier): Linear(in_features=768, out_features=4, bias=True)\n",
       ")"
      ]
     },
     "execution_count": 15,
     "metadata": {},
     "output_type": "execute_result"
    }
   ],
   "source": [
    "model = AutoModelForSequenceClassification.from_pretrained(MODEL_NAME, num_labels=len(SENT_LABELS))\n",
    "model.to(device)"
   ]
  },
  {
   "cell_type": "code",
   "execution_count": 16,
   "id": "9591ab21-af5a-48df-9fe1-78712b3f29ae",
   "metadata": {},
   "outputs": [],
   "source": [
    "# tokenizer = BertTokenizerFast.from_pretrained(MODEL_NAME)\n",
    "# Load tokenizer\n",
    "tokenizer = AutoTokenizer.from_pretrained(MODEL_NAME, use_fast=True)"
   ]
  },
  {
   "cell_type": "code",
   "execution_count": 17,
   "id": "24cdf5cb-4ac9-4e8d-906f-01e53fa4a711",
   "metadata": {},
   "outputs": [],
   "source": [
    "# Tokenize the data\n",
    "\n",
    "def tokenize(batch):\n",
    "    return tokenizer(batch['text'], padding='max_length', truncation=True, max_length=MAX_LENGTH)\n",
    "    \n",
    "train_dataset = Dataset.from_pandas(train_df)\n",
    "test_dataset = Dataset.from_pandas(test_df)"
   ]
  },
  {
   "cell_type": "code",
   "execution_count": 19,
   "id": "b2ce401d-9f46-4b1f-8190-70c07dae92f4",
   "metadata": {},
   "outputs": [
    {
     "data": {
      "application/vnd.jupyter.widget-view+json": {
       "model_id": "88c6f137300942bfb941d3d74825d9b5",
       "version_major": 2,
       "version_minor": 0
      },
      "text/plain": [
       "Map:   0%|          | 0/14332 [00:00<?, ? examples/s]"
      ]
     },
     "metadata": {},
     "output_type": "display_data"
    }
   ],
   "source": [
    "# Tokenize by batches\n",
    "train_dataset = test_dataset.map(tokenize, batched=True, batch_size=len(train_dataset))\n",
    "train_dataset.set_format('torch', columns=['input_ids', 'attention_mask', 'labels'])\n"
   ]
  },
  {
   "cell_type": "code",
   "execution_count": 20,
   "id": "b1d0b0d6-7be4-4923-9d1d-6168c0ada259",
   "metadata": {},
   "outputs": [
    {
     "data": {
      "application/vnd.jupyter.widget-view+json": {
       "model_id": "7d87fc237d394686b7166cdab421031a",
       "version_major": 2,
       "version_minor": 0
      },
      "text/plain": [
       "Map:   0%|          | 0/14332 [00:00<?, ? examples/s]"
      ]
     },
     "metadata": {},
     "output_type": "display_data"
    }
   ],
   "source": [
    "test_dataset = test_dataset.map(tokenize, batched=True, batch_size=len(test_dataset))\n",
    "test_dataset.set_format('torch', columns=['input_ids', 'attention_mask', 'labels'])"
   ]
  },
  {
   "cell_type": "markdown",
   "id": "5b5603af-9e18-4546-925b-346ca72b1bf3",
   "metadata": {},
   "source": [
    "#### Create PyTorch Dataset and DataLoader"
   ]
  },
  {
   "cell_type": "code",
   "execution_count": 21,
   "id": "b954a6e2-c755-4b85-be6e-e81c978f7230",
   "metadata": {},
   "outputs": [],
   "source": [
    "# # Create datasets\n",
    "# train_dataset = SentimentDataset(train_tokenizer, list(train_df['Sentiment']))\n",
    "# test_dataset = SentimentDataset(test_tokenizer, list(test_df['Sentiment']))\n",
    "# val_dataset.__getitem__(10)"
   ]
  },
  {
   "cell_type": "markdown",
   "id": "9c85ab71-2bf1-4984-a15d-ae59bbdde44f",
   "metadata": {},
   "source": [
    "#### Set up BERT model"
   ]
  },
  {
   "cell_type": "code",
   "execution_count": 22,
   "id": "9db03afe-254f-40f1-90df-2bf71626947e",
   "metadata": {},
   "outputs": [],
   "source": [
    "# Set training args\n",
    "NUM_EPOCH = 3\n",
    "WARMUP_STEPS = 500\n",
    "LEARNING_RATE = 2e-5\n",
    "BATCH_SIZE = 16"
   ]
  },
  {
   "cell_type": "code",
   "execution_count": 23,
   "id": "36eaf996-090c-4a69-bce9-f38affa301a6",
   "metadata": {},
   "outputs": [],
   "source": [
    "# # Set up optimizer and scheduler\n",
    "# optimizer = AdamW(model.parameters(), lr=2e-5)\n",
    "# total_steps =len(train_dataset) // BATCH_SIZE * NUM_EPOCHS \n",
    "# scheduler = get_linear_schedule_with_warmup(optimizer, num_warmup_steps=0, num_training_steps=total_steps)"
   ]
  },
  {
   "cell_type": "code",
   "execution_count": 24,
   "id": "09a8e34a-c7df-44c5-aa8a-bcdbc2816b34",
   "metadata": {},
   "outputs": [],
   "source": [
    "# Define training arguments\n",
    "training_args = TrainingArguments(\n",
    "    output_dir='../results',\n",
    "    logging_dir='../logs',\n",
    "    save_strategy = \"epoch\",\n",
    "    eval_strategy=\"epoch\",\n",
    "    num_train_epochs=NUM_EPOCHS,\n",
    "    per_device_train_batch_size=BATCH_SIZE,\n",
    "    per_device_eval_batch_size=128, # batch size for evaluation\n",
    "    warmup_steps=WARMUP_STEPS,\n",
    "    weight_decay=0.01,\n",
    "    learning_rate=LEARNING_RATE,\n",
    "    load_best_model_at_end=True,       # load best model at the end according to chosen metric\n",
    "    metric_for_best_model='f1'         # chosen metric to use for picking best model\n",
    ")"
   ]
  },
  {
   "cell_type": "markdown",
   "id": "4810edc0-2be0-48b6-84ac-5702487895c8",
   "metadata": {},
   "source": [
    "####  Train the model"
   ]
  },
  {
   "cell_type": "code",
   "execution_count": 25,
   "id": "acfdcefe-f63b-4124-a3c8-bbe0cc4e7b3b",
   "metadata": {},
   "outputs": [
    {
     "data": {
      "text/html": [
       "\n",
       "    <div>\n",
       "      \n",
       "      <progress value='2688' max='2688' style='width:300px; height:20px; vertical-align: middle;'></progress>\n",
       "      [2688/2688 13:21, Epoch 3/3]\n",
       "    </div>\n",
       "    <table border=\"1\" class=\"dataframe\">\n",
       "  <thead>\n",
       " <tr style=\"text-align: left;\">\n",
       "      <th>Epoch</th>\n",
       "      <th>Training Loss</th>\n",
       "      <th>Validation Loss</th>\n",
       "      <th>Accuracy</th>\n",
       "      <th>Precision</th>\n",
       "      <th>Recall</th>\n",
       "      <th>F1</th>\n",
       "    </tr>\n",
       "  </thead>\n",
       "  <tbody>\n",
       "    <tr>\n",
       "      <td>1</td>\n",
       "      <td>1.231000</td>\n",
       "      <td>0.816278</td>\n",
       "      <td>0.683924</td>\n",
       "      <td>0.682791</td>\n",
       "      <td>0.683924</td>\n",
       "      <td>0.666931</td>\n",
       "    </tr>\n",
       "    <tr>\n",
       "      <td>2</td>\n",
       "      <td>0.805400</td>\n",
       "      <td>0.491585</td>\n",
       "      <td>0.836659</td>\n",
       "      <td>0.835724</td>\n",
       "      <td>0.836659</td>\n",
       "      <td>0.835104</td>\n",
       "    </tr>\n",
       "    <tr>\n",
       "      <td>3</td>\n",
       "      <td>0.507800</td>\n",
       "      <td>0.332447</td>\n",
       "      <td>0.891641</td>\n",
       "      <td>0.891237</td>\n",
       "      <td>0.891641</td>\n",
       "      <td>0.890929</td>\n",
       "    </tr>\n",
       "  </tbody>\n",
       "</table><p>"
      ],
      "text/plain": [
       "<IPython.core.display.HTML object>"
      ]
     },
     "metadata": {},
     "output_type": "display_data"
    },
    {
     "name": "stdout",
     "output_type": "stream",
     "text": [
      "CPU times: user 3min 41s, sys: 9min 42s, total: 13min 23s\n",
      "Wall time: 13min 22s\n"
     ]
    },
    {
     "data": {
      "text/plain": [
       "TrainOutput(global_step=2688, training_loss=0.8134904276757013, metrics={'train_runtime': 802.124, 'train_samples_per_second': 53.603, 'train_steps_per_second': 3.351, 'total_flos': 2209555875196800.0, 'train_loss': 0.8134904276757013, 'epoch': 3.0})"
      ]
     },
     "execution_count": 25,
     "metadata": {},
     "output_type": "execute_result"
    }
   ],
   "source": [
    "%%time\n",
    "# Create Trainer instance\n",
    "trainer = Trainer(\n",
    "    model=model,\n",
    "    args=training_args,\n",
    "    train_dataset=train_dataset,\n",
    "    eval_dataset=test_dataset,\n",
    "    compute_metrics=compute_metrics  # Define metrics\n",
    ")\n",
    "\n",
    "# Train the model\n",
    "trainer.train()"
   ]
  },
  {
   "cell_type": "code",
   "execution_count": 26,
   "id": "4ca08100-a2ca-4568-8fa8-d59b03b34ac3",
   "metadata": {},
   "outputs": [
    {
     "data": {
      "text/html": [
       "\n",
       "    <div>\n",
       "      \n",
       "      <progress value='112' max='112' style='width:300px; height:20px; vertical-align: middle;'></progress>\n",
       "      [112/112 01:02]\n",
       "    </div>\n",
       "    "
      ],
      "text/plain": [
       "<IPython.core.display.HTML object>"
      ]
     },
     "metadata": {},
     "output_type": "display_data"
    },
    {
     "name": "stdout",
     "output_type": "stream",
     "text": [
      "{'eval_loss': 0.33244746923446655, 'eval_accuracy': 0.8916410828914317, 'eval_precision': 0.8912371548599353, 'eval_recall': 0.8916410828914317, 'eval_f1': 0.8909287387768433, 'eval_runtime': 62.7804, 'eval_samples_per_second': 228.288, 'eval_steps_per_second': 1.784, 'epoch': 3.0}\n",
      "Validation Accuracy: 0.8916\n",
      "Validation Precision: 0.8912\n",
      "Validation Recall: 0.8916\n",
      "Validation F1 Score: 0.8909\n"
     ]
    }
   ],
   "source": [
    "# Evaluate the model\n",
    "eval_result = trainer.evaluate()\n",
    "print(eval_result)\n",
    "print(f\"Validation Accuracy: {eval_result['eval_accuracy']:.4f}\")\n",
    "print(f\"Validation Precision: {eval_result['eval_precision']:.4f}\")\n",
    "print(f\"Validation Recall: {eval_result['eval_recall']:.4f}\")\n",
    "print(f\"Validation F1 Score: {eval_result['eval_f1']:.4f}\")"
   ]
  },
  {
   "cell_type": "code",
   "execution_count": 27,
   "id": "a56ee3e7-ebeb-4aae-af48-8bb2c7461894",
   "metadata": {},
   "outputs": [
    {
     "data": {
      "text/plain": [
       "('../bert_model/tokenizer_config.json',\n",
       " '../bert_model/special_tokens_map.json',\n",
       " '../bert_model/vocab.txt',\n",
       " '../bert_model/added_tokens.json',\n",
       " '../bert_model/tokenizer.json')"
      ]
     },
     "execution_count": 27,
     "metadata": {},
     "output_type": "execute_result"
    }
   ],
   "source": [
    "# Save the model\n",
    "model.save_pretrained('../bert_model')\n",
    "tokenizer.save_pretrained('../bert_model')"
   ]
  }
 ],
 "metadata": {
  "kernelspec": {
   "display_name": "Python 3 (ipykernel)",
   "language": "python",
   "name": "python3"
  },
  "language_info": {
   "codemirror_mode": {
    "name": "ipython",
    "version": 3
   },
   "file_extension": ".py",
   "mimetype": "text/x-python",
   "name": "python",
   "nbconvert_exporter": "python",
   "pygments_lexer": "ipython3",
   "version": "3.11.7"
  }
 },
 "nbformat": 4,
 "nbformat_minor": 5
}
